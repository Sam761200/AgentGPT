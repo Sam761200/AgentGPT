{
  "nbformat": 4,
  "nbformat_minor": 0,
  "metadata": {
    "colab": {
      "provenance": [],
      "authorship_tag": "ABX9TyPMOJI5qaic8klHqycILQM8",
      "include_colab_link": true
    },
    "kernelspec": {
      "name": "python3",
      "display_name": "Python 3"
    },
    "language_info": {
      "name": "python"
    }
  },
  "cells": [
    {
      "cell_type": "markdown",
      "metadata": {
        "id": "view-in-github",
        "colab_type": "text"
      },
      "source": [
        "<a href=\"https://colab.research.google.com/github/Sam761200/AgentGPT/blob/main/Script_AnalyseDeDonn%C3%A9esipynb.ipynb\" target=\"_parent\"><img src=\"https://colab.research.google.com/assets/colab-badge.svg\" alt=\"Open In Colab\"/></a>"
      ]
    },
    {
      "cell_type": "code",
      "execution_count": null,
      "metadata": {
        "id": "K9im5PyDNFho"
      },
      "outputs": [],
      "source": [
        "# Importation des bibliothèques nécessaires\n",
        "import pandas as pd\n",
        "import matplotlib.pyplot as plt\n",
        "import seaborn as sns\n",
        "\n",
        "# Chargement des données depuis un fichier CSV\n",
        "# Remplace 'data.csv' par le chemin de votre fichier de données\n",
        "df = pd.read_csv('data.csv')\n",
        "\n",
        "# Afficher les premières lignes du dataset\n",
        "print(\"Aperçu des données :\")\n",
        "print(df.head())\n",
        "\n",
        "# Analyse descriptive de base\n",
        "print(\"\\nStatistiques descriptives :\")\n",
        "print(df.describe())\n",
        "\n",
        "# Vérifier les valeurs manquantes\n",
        "print(\"\\nValeurs manquantes par colonne :\")\n",
        "print(df.isnull().sum())\n",
        "\n",
        "# Nettoyage des données (exemple : suppression des valeurs manquantes)\n",
        "df_clean = df.dropna()\n",
        "\n",
        "# Analyse de corrélation\n",
        "print(\"\\nMatrice de corrélation :\")\n",
        "print(df_clean.corr())\n",
        "\n",
        "# Visualisation de la distribution des données pour une colonne spécifique\n",
        "plt.figure(figsize=(10, 6))\n",
        "sns.histplot(df_clean['nom_de_la_colonne'], kde=True)\n",
        "plt.title('Distribution de la colonne \"nom_de_la_colonne\"')\n",
        "plt.xlabel('Valeurs')\n",
        "plt.ylabel('Fréquence')\n",
        "plt.show()\n",
        "\n",
        "# Visualisation des corrélations avec une heatmap\n",
        "plt.figure(figsize=(12, 8))\n",
        "sns.heatmap(df_clean.corr(), annot=True, cmap='coolwarm')\n",
        "plt.title('Heatmap des corrélations')\n",
        "plt.show()\n"
      ]
    }
  ]
}